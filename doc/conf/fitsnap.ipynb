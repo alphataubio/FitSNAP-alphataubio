{
 "cells": [
  {
   "cell_type": "markdown",
   "id": "2ecd8292-7b26-4f7f-ad9c-a593d3d1a217",
   "metadata": {},
   "source": [
    "# FITSNAP FAVICON"
   ]
  },
  {
   "cell_type": "code",
   "execution_count": 140,
   "id": "be753ada-a67f-4324-9fc9-82d1f75486c1",
   "metadata": {},
   "outputs": [
    {
     "data": {
      "image/png": "[encoded data removed]",
      "text/plain": [
       "<Figure size 300x300 with 1 Axes>"
      ]
     },
     "metadata": {},
     "output_type": "display_data"
    }
   ],
   "source": [
    "import matplotlib.pyplot as plt\n",
    "import matplotlib.lines as lines\n",
    "import matplotlib.patches as patches\n",
    "import numpy as np\n",
    "import itertools\n",
    "\n",
    "fig, ax = plt.subplots(figsize=(3,3))\n",
    "ax.set_xlim([0, 10])\n",
    "ax.set_ylim([0, 10])\n",
    "fs_light_blue = '#F3F4FC'\n",
    "fs_yellow = 'yellow'\n",
    "fs_blue = '#22389A'\n",
    "fs_radius = .75\n",
    "fs_lw = 6\n",
    "ax.add_patch(patches.Rectangle((0,0), 10, 10,fc=fs_yellow))\n",
    "ax.axis(\"off\")\n",
    "ax.add_line(lines.Line2D([1.5,3.5],[1.5,8.5],lw=fs_lw, color=fs_blue, axes=ax,zorder=1))\n",
    "ax.add_line(lines.Line2D([2.5,7.5],[5,5],lw=fs_lw, color=fs_blue, axes=ax,zorder=1))\n",
    "ax.add_line(lines.Line2D([3.5,8.5],[8.5,8.5],lw=fs_lw, color=fs_blue, axes=ax,zorder=1))\n",
    "\n",
    "circles = zip(np.arange(1.5,3.51,.5), np.arange(1.5,8.51,(8.5-1.5)/4))\n",
    "circles = itertools.chain(circles,[(5,5),(7.5,5),(6,8.5),(8.5,8.5)])\n",
    "\n",
    "for x, y in circles:\n",
    "    ax.add_patch( patches.Circle((x,y),radius=fs_radius,linewidth=fs_lw,ec=fs_blue,fc=fs_light_blue))\n",
    "\n",
    "plt.savefig('fs_favicon.png', bbox_inches='tight',pad_inches=0)\n",
    "from PIL import Image\n",
    "Image.open('fs_favicon.png').save('fs_favicon.ico')"
   ]
  },
  {
   "cell_type": "markdown",
   "id": "e2be1fa4-5967-4b82-9bc0-1628c8e32789",
   "metadata": {},
   "source": [
    "# GENERATE EXAMPLES.RST"
   ]
  },
  {
   "cell_type": "code",
   "execution_count": 14,
   "id": "515b1b50-ff03-42d9-a069-3b842391673a",
   "metadata": {},
   "outputs": [
    {
     "name": "stdout",
     "output_type": "stream",
     "text": [
      "Overwriting examples_rst.py\n"
     ]
    }
   ],
   "source": [
    "%%writefile examples_rst.py\n",
    "\n",
    "import os, re\n",
    "from itertools import islice\n",
    "\n",
    "with open('../src/examples.rst', 'w') as rst:\n",
    "\n",
    "    print( '\\nExamples\\n=========\\n\\n', file=rst )\n",
    "    \n",
    "    with os.scandir('../../examples') as examples:\n",
    "\n",
    "        sorted_examples = sorted([e for e in examples if e.is_dir()], key=lambda e: e.name)\n",
    "        \n",
    "        for i, e in enumerate(sorted_examples):\n",
    "            #print(e)\n",
    "\n",
    "            if i>0: print(\"--------\\n\", file=rst )\n",
    "            print(f\"{e.name}\\n{''.join(['-']*len(e.name))}\\n\", file=rst )\n",
    "\n",
    "            if os.path.isfile(readme_path := f\"../../examples/{e.name}/README.md\"):\n",
    "                print(f\".. include:: {readme_path}\\n\", file=rst )\n",
    "                #print(f\"  :parser: myst_parser.sphinx_\\n\", file=rst )\n",
    "            else:\n",
    "                print(f\"See ``examples/{e.name}/`` for details.\\n\\n\", file=rst )\n",
    "            "
   ]
  },
  {
   "cell_type": "code",
   "execution_count": null,
   "id": "d77e47c6-fe78-4d76-8020-b4bf57c8763b",
   "metadata": {},
   "outputs": [],
   "source": []
  }
 ],
 "metadata": {
  "kernelspec": {
   "display_name": "Python 3 (ipykernel)",
   "language": "python",
   "name": "python3"
  },
  "language_info": {
   "codemirror_mode": {
    "name": "ipython",
    "version": 3
   },
   "file_extension": ".py",
   "mimetype": "text/x-python",
   "name": "python",
   "nbconvert_exporter": "python",
   "pygments_lexer": "ipython3",
   "version": "3.12.5"
  }
 },
 "nbformat": 4,
 "nbformat_minor": 5
}
